{
 "cells": [
  {
   "cell_type": "markdown",
   "metadata": {},
   "source": [
    "# Họ và tên:\n",
    "# MSSV:\n",
    "# Lớp học phần - Nhóm TH:"
   ]
  },
  {
   "cell_type": "markdown",
   "metadata": {},
   "source": [
    "# 1. Hello world!"
   ]
  },
  {
   "cell_type": "code",
   "execution_count": 1,
   "metadata": {},
   "outputs": [
    {
     "name": "stdout",
     "output_type": "stream",
     "text": [
      "HELLO WORD\n"
     ]
    }
   ],
   "source": [
    "print (\"HELLO WORD\")"
   ]
  },
  {
   "cell_type": "markdown",
   "metadata": {},
   "source": [
    "# 2. Program to Add Two Numbers"
   ]
  },
  {
   "cell_type": "markdown",
   "metadata": {},
   "source": [
    "## Add Two Numbers"
   ]
  },
  {
   "cell_type": "code",
   "execution_count": 2,
   "metadata": {},
   "outputs": [
    {
     "name": "stdout",
     "output_type": "stream",
     "text": [
      "7.8\n"
     ]
    }
   ],
   "source": [
    "num1 = 1.5\n",
    "num2 = 6.3\n",
    "\n",
    "### START CODE HERE ### \n",
    "# Add two numbers\n",
    "\n",
    "sum = num1 + num2\n",
    "\n",
    "# Display the sum\n",
    "print(sum)"
   ]
  },
  {
   "cell_type": "markdown",
   "metadata": {},
   "source": [
    "##  Add Two Numbers With User Input"
   ]
  },
  {
   "cell_type": "code",
   "execution_count": null,
   "metadata": {},
   "outputs": [
    {
     "name": "stdout",
     "output_type": "stream",
     "text": [
      "7.0\n"
     ]
    }
   ],
   "source": [
    "# Store input numbers\n",
    "\n",
    "\n",
    "### START CODE HERE ### \n",
    "num1 = float(input(\"Enter the first number: \"))\n",
    "num2 = float(input(\"Enter the second number: \"))\n",
    "# Add two numbers\n",
    "sum = num1 + num2\n",
    "\n",
    "\n",
    "### END CODE HERE ###\n",
    "\n",
    "# Display the sum\n",
    "print(sum)"
   ]
  },
  {
   "cell_type": "markdown",
   "metadata": {},
   "source": [
    "# 3. Program to Find the Square Root"
   ]
  },
  {
   "cell_type": "code",
   "execution_count": 3,
   "metadata": {},
   "outputs": [
    {
     "name": "stdout",
     "output_type": "stream",
     "text": [
      "căn bậc 2 của  8 là 2.8284271247461903\n"
     ]
    }
   ],
   "source": [
    "# Python Program to calculate the square root\n",
    "import math\n",
    "# Note: change this value for a different result\n",
    "num = 8 \n",
    "\n",
    "# To take the input from the user\n",
    "#num = float(input('Enter a number: '))\n",
    "\n",
    "# calculate the square root \n",
    "square_root = math.sqrt(num)\n",
    "\n",
    "# print the value of the square root\n",
    "\n",
    "print(f\"căn bậc 2 của  {num} là {square_root}\")"
   ]
  },
  {
   "cell_type": "markdown",
   "metadata": {},
   "source": [
    "# 4. Program to Calculate the Area of a Triangle\n",
    "s = (a+b+c)/2\n",
    "\n",
    "area = √(s(s-a)*(s-b)*(s-c))"
   ]
  },
  {
   "cell_type": "code",
   "execution_count": 5,
   "metadata": {},
   "outputs": [
    {
     "name": "stdout",
     "output_type": "stream",
     "text": [
      "The area of the triangle is 9.80\n"
     ]
    }
   ],
   "source": [
    "### START CODE HERE ### \n",
    "\n",
    "# take inputs from the user\n",
    "a = 5\n",
    "b = 4\n",
    "c = 7\n",
    "\n",
    "\n",
    "# calculate the semi-perimeter\n",
    "s = s = (a + b + c) / 2\n",
    "\n",
    "# calculate the area\n",
    "area = area = (s * (s - a) * (s - b) * (s - c)) ** 0.5\n",
    "\n",
    "### END CODE HERE ###\n",
    "\n",
    "print('The area of the triangle is %0.2f' %area)"
   ]
  },
  {
   "cell_type": "markdown",
   "metadata": {},
   "source": [
    "# 5. Program to Solve Quadratic Equation\n",
    "ax2 + bx + c = 0, where a, b and c are real numbers and a ≠ 0"
   ]
  },
  {
   "cell_type": "code",
   "execution_count": 6,
   "metadata": {},
   "outputs": [
    {
     "name": "stdout",
     "output_type": "stream",
     "text": [
      "The solution are (-0.8+1.1661903789690602j) and (-0.8-1.1661903789690602j)\n"
     ]
    }
   ],
   "source": [
    "import cmath\n",
    "\n",
    "### START CODE HERE ### \n",
    "\n",
    "# take inputs from the user\n",
    "a = 5\n",
    "b = 8\n",
    "c = 10\n",
    "\n",
    "# calculate the discriminant\n",
    "d =  cmath.sqrt(b**2 - 4*a*c)\n",
    "\n",
    "# find two solutions using square root for real/complex number\n",
    "sol1 = (-b + d) / (2*a)\n",
    "sol2 = (-b - d) / (2*a)\n",
    "### END CODE HERE ###\n",
    "\n",
    "print('Các nghiệm là {0} và {1}'.format(sol1,sol2))"
   ]
  },
  {
   "cell_type": "markdown",
   "metadata": {},
   "source": [
    "# 6. Program to Swap Two Variables"
   ]
  },
  {
   "cell_type": "code",
   "execution_count": 7,
   "metadata": {},
   "outputs": [
    {
     "name": "stdout",
     "output_type": "stream",
     "text": [
      "Sau khi hoán đổi: x = 4 và y = 3\n"
     ]
    }
   ],
   "source": [
    "# To take inputs from the user\n",
    "x = input(\"Nhập giá trị của x: \")\n",
    "y = input(\"Nhập giá trị của y: \")\n",
    "# Hiển thị giá trị ban đầu của x và y\n",
    "print(\"Giá trị ban đầu: x =\", x, \"và y =\", y)\n",
    "# create a temporary variable and swap the values\n",
    "temp = x\n",
    "# Hoán đổi giá trị của x và y\n",
    "x = y\n",
    "y = temp\n",
    "# Print the c=value of x, y after swapping\n",
    "print(\"Sau khi hoán đổi: x =\", x, \"và y =\", y)\n"
   ]
  },
  {
   "cell_type": "code",
   "execution_count": 8,
   "metadata": {},
   "outputs": [
    {
     "name": "stdout",
     "output_type": "stream",
     "text": [
      "Giá trị ban đầu: x = 4 và y = 5\n",
      "Địa chỉ của x: 140727648292136\n",
      "Địa chỉ của y: 140727648292192\n",
      "Địa chỉ của temp: 140727648292136\n",
      "Sau khi hoán đổi: x = 5 và y = 4\n"
     ]
    }
   ],
   "source": [
    "### START CODE HERE ### \n",
    "# writing code to get the address (in RAM) of x, y, temp through the built-in function id()\n",
    "x = input(\"Nhập giá trị của x: \")\n",
    "y = input(\"Nhập giá trị của y: \")\n",
    "# Hiển thị giá trị ban đầu của x và y\n",
    "print(\"Giá trị ban đầu: x =\", x, \"và y =\", y)\n",
    "\n",
    "# Tạo một biến tạm thời để lưu giá trị của x\n",
    "temp = x\n",
    "\n",
    "# Hiển thị địa chỉ (trong RAM) của các biến x, y và temp\n",
    "print(\"Địa chỉ của x:\", id(x))\n",
    "print(\"Địa chỉ của y:\", id(y))\n",
    "print(\"Địa chỉ của temp:\", id(temp))\n",
    "\n",
    "# Hoán đổi giá trị của x và y\n",
    "x = y\n",
    "y = temp\n",
    "\n",
    "# Hiển thị giá trị của x và y sau khi hoán đổi\n",
    "print(\"Sau khi hoán đổi: x =\", x, \"và y =\", y)\n",
    "### END CODE HERE ###"
   ]
  },
  {
   "cell_type": "markdown",
   "metadata": {},
   "source": [
    "# 7. Program to Generate a Random Number\n",
    "https://docs.python.org/3/library/random.html"
   ]
  },
  {
   "cell_type": "code",
   "execution_count": 10,
   "metadata": {},
   "outputs": [
    {
     "name": "stdout",
     "output_type": "stream",
     "text": [
      "2\n",
      "5\n"
     ]
    }
   ],
   "source": [
    "# Program to generate a random number between 0 and 9\n",
    "\n",
    "# importing the random module\n",
    "import random\n",
    "\n",
    "print(random.randint(0,9))\n",
    "\n",
    "# Uncomment to try different function in random module\n",
    "print(random.randrange(9))\n",
    "# print(random.randrange(3,9))\n",
    "# print(random.random())\n",
    "# print(random.uniform(a,b))"
   ]
  },
  {
   "cell_type": "code",
   "execution_count": 11,
   "metadata": {},
   "outputs": [
    {
     "name": "stdout",
     "output_type": "stream",
     "text": [
      "8\n",
      "7\n"
     ]
    }
   ],
   "source": [
    "# Program to generate a random number between 0 and 9\n",
    "\n",
    "# importing the random module\n",
    "import random\n",
    "\n",
    "print(random.randint(0,9))\n",
    "\n",
    "# Uncomment to try different function in random module\n",
    "# print(random.randrange(9))\n",
    "print(random.randrange(3,9))\n",
    "# print(random.random())\n",
    "# print(random.uniform(a,b))"
   ]
  },
  {
   "cell_type": "code",
   "execution_count": 12,
   "metadata": {},
   "outputs": [
    {
     "name": "stdout",
     "output_type": "stream",
     "text": [
      "6\n",
      "0.7149336925289798\n"
     ]
    }
   ],
   "source": [
    "# Program to generate a random number between 0 and 9\n",
    "\n",
    "# importing the random module\n",
    "import random\n",
    "\n",
    "print(random.randint(0,9))\n",
    "\n",
    "# Uncomment to try different function in random module\n",
    "# print(random.randrange(9))\n",
    "# print(random.randrange(3,9))\n",
    "print(random.random())\n",
    "# print(random.uniform(a,b))"
   ]
  },
  {
   "cell_type": "code",
   "execution_count": 13,
   "metadata": {},
   "outputs": [
    {
     "name": "stdout",
     "output_type": "stream",
     "text": [
      "3\n",
      "7.12197305269607\n"
     ]
    }
   ],
   "source": [
    "# Program to generate a random number between 0 and 9\n",
    "\n",
    "# importing the random module\n",
    "import random\n",
    "\n",
    "print(random.randint(0,9))\n",
    "\n",
    "# Uncomment to try different function in random module\n",
    "# print(random.randrange(9))\n",
    "# print(random.randrange(3,9))\n",
    "# print(random.random())\n",
    "print(random.uniform(a,b))"
   ]
  },
  {
   "cell_type": "markdown",
   "metadata": {},
   "source": [
    "# 8. Program to Convert Kilometers to Miles\n",
    "1 km = (1/1.609344) mi = 0.62137119 mi"
   ]
  },
  {
   "cell_type": "code",
   "execution_count": 15,
   "metadata": {},
   "outputs": [
    {
     "name": "stdout",
     "output_type": "stream",
     "text": [
      "6.00 kilometers is equal(bằng) to 3.73 miles\n"
     ]
    }
   ],
   "source": [
    "# Taking kilometers input from the user\n",
    "kilometers = float(input(\"Enter value in kilometers: \"))\n",
    "\n",
    "# conversion factor\n",
    "conv_fac = 0.621371\n",
    "\n",
    "# calculate miles\n",
    "miles = kilometers * conv_fac\n",
    "print('%0.2f kilometers is equal(bằng) to %0.2f miles' %(kilometers,miles))"
   ]
  },
  {
   "cell_type": "code",
   "execution_count": 16,
   "metadata": {},
   "outputs": [
    {
     "name": "stdout",
     "output_type": "stream",
     "text": [
      "7.0 dặm bằng 11.26538 kilômét\n"
     ]
    }
   ],
   "source": [
    "### START CODE HERE ### \n",
    "# writing code to convert miles to kilometers\n",
    "# Lấy đầu vào từ người dùng cho số dặm\n",
    "miles = float(input(\"Nhập số dặm: \"))\n",
    "\n",
    "# Tỉ lệ chuyển đổi từ miles sang kilometers\n",
    "conversion_factor = 1.60934\n",
    "\n",
    "# Chuyển đổi dặm thành kilômét\n",
    "kilometers = miles * conversion_factor\n",
    "\n",
    "# In ra kết quả\n",
    "print(f\"{miles} dặm bằng {kilometers} kilômét\")\n",
    "### END CODE HERE ###"
   ]
  },
  {
   "cell_type": "markdown",
   "metadata": {},
   "source": [
    "# 9. Program to Convert Celsius To Fahrenheit\n",
    "T(°F) = T(°C) × 1.8 + 32"
   ]
  },
  {
   "cell_type": "code",
   "execution_count": 19,
   "metadata": {},
   "outputs": [
    {
     "name": "stdout",
     "output_type": "stream",
     "text": [
      "45.0 độ Celsius(°C) bằng 113.00 độ Fahrenheit(°F)\n"
     ]
    }
   ],
   "source": [
    "### START CODE HERE ### \n",
    "# Taking celsius input from the user\n",
    "\n",
    "celsius = float(input(\"Nhập nhiệt độ Celsius: \"))\n",
    "# conversion factor\n",
    "conversion_factor = 9/5\n",
    "\n",
    "# calculate Fahrenheit\n",
    "\n",
    "fahrenheit = (celsius * conversion_factor) + 32\n",
    "# print result\n",
    "print(f\"{celsius} độ Celsius(°C) bằng {fahrenheit:.2f} độ Fahrenheit(°F)\")\n",
    "### END CODE HERE ###"
   ]
  }
 ],
 "metadata": {
  "kernelspec": {
   "display_name": "Python 3",
   "language": "python",
   "name": "python3"
  },
  "language_info": {
   "codemirror_mode": {
    "name": "ipython",
    "version": 3
   },
   "file_extension": ".py",
   "mimetype": "text/x-python",
   "name": "python",
   "nbconvert_exporter": "python",
   "pygments_lexer": "ipython3",
   "version": "3.11.4"
  }
 },
 "nbformat": 4,
 "nbformat_minor": 2
}
